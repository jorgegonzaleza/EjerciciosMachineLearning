{
 "cells": [
  {
   "cell_type": "markdown",
   "id": "4bce2011-39e1-4bc2-a181-be2b90924698",
   "metadata": {},
   "source": [
    "# PREDICCIÓN COSTE TRASPASO JUGADORES"
   ]
  },
  {
   "cell_type": "markdown",
   "id": "9a4739eb-ef2b-4c5e-bd53-619effdf61e3",
   "metadata": {},
   "source": [
    "# 1. IMPORTAMOS LIBRERÍAS Y LEEMOS EL CSV"
   ]
  },
  {
   "cell_type": "code",
   "execution_count": null,
   "id": "f1732e43-5772-4748-a488-cefa842c20a0",
   "metadata": {},
   "outputs": [],
   "source": [
    "import numpy as np\n",
    "import pandas as pd\n",
    "import matplotlib.pyplot as plt\n",
    "%matplotlib inline"
   ]
  },
  {
   "cell_type": "code",
   "execution_count": null,
   "id": "856bf42b-d41c-4918-b228-ca87c092e2c8",
   "metadata": {},
   "outputs": [],
   "source": [
    "df=pd.read_csv(\"transfers.csv\")"
   ]
  },
  {
   "cell_type": "code",
   "execution_count": null,
   "id": "edf534b9-aae6-4325-9526-a812ce549a50",
   "metadata": {},
   "outputs": [],
   "source": [
    "df.head(10)"
   ]
  },
  {
   "cell_type": "markdown",
   "id": "0f45a501-b053-4297-8398-4811795c70a6",
   "metadata": {},
   "source": [
    "### Información de la base de datos"
   ]
  },
  {
   "cell_type": "code",
   "execution_count": null,
   "id": "ae2851ce-bbea-4c03-beec-d1cf90b2a16c",
   "metadata": {},
   "outputs": [],
   "source": [
    "#VEMOS SI HAY VALORES NULOS\n",
    "df.isna().any()"
   ]
  },
  {
   "cell_type": "code",
   "execution_count": null,
   "id": "4a37c568-1552-4e64-9806-d6e0743ef626",
   "metadata": {},
   "outputs": [],
   "source": [
    "df.info()"
   ]
  },
  {
   "cell_type": "code",
   "execution_count": null,
   "id": "1872de50-2f43-45ce-a23c-f64b9da1771f",
   "metadata": {},
   "outputs": [],
   "source": [
    "df.describe"
   ]
  },
  {
   "cell_type": "markdown",
   "id": "0c3c84da-be79-4909-a02c-53b58f4f4a48",
   "metadata": {},
   "source": [
    "## 2. AJUSTES BASE DE DATOS"
   ]
  },
  {
   "cell_type": "markdown",
   "id": "4a3d54a2-4420-4790-94e3-5e8420c0d922",
   "metadata": {},
   "source": [
    "### Hacemos una copia del original para no modificarlo"
   ]
  },
  {
   "cell_type": "code",
   "execution_count": null,
   "id": "03c4816e-235f-4dc4-9f21-c72d961f82d8",
   "metadata": {},
   "outputs": [],
   "source": [
    "df_clean=df.copy()"
   ]
  },
  {
   "cell_type": "markdown",
   "id": "a79b8168-04ac-4d80-a245-4e5abb8ba029",
   "metadata": {},
   "source": [
    "### Eliminación de filas con: valores nulos en traspasos, retiradas o agentes libre"
   ]
  },
  {
   "cell_type": "code",
   "execution_count": null,
   "id": "b04995e1-f981-495d-9d00-5179d266452a",
   "metadata": {},
   "outputs": [],
   "source": [
    "#BUSCAMOS EL VALOR ASOCIADO AL CLUB \"RETIRADO\"\" PARA ELIMINARLO\n",
    "df.query(\"to_club_id <= 123 and to_club_id >= 123\")"
   ]
  },
  {
   "cell_type": "code",
   "execution_count": null,
   "id": "e502953c-92d2-40ea-813e-582554f9441f",
   "metadata": {},
   "outputs": [],
   "source": [
    "#ELIMINAMOS LOS TRANSPASOS QUE SON RETIRADAS\n",
    "df_clean=df_clean[df_clean[\"to_club_id\"]!=123]"
   ]
  },
  {
   "cell_type": "code",
   "execution_count": null,
   "id": "5f8a1ac1-53d0-43e6-abbf-b7b714bd543f",
   "metadata": {},
   "outputs": [],
   "source": [
    "#BUSCAMOS EL VALOR ASOCIADO AL CLUB \"SIN EQUIPO\"\" PARA ELIMINARLO\n",
    "df.query(\"to_club_id <= 515 and to_club_id >= 515\")"
   ]
  },
  {
   "cell_type": "code",
   "execution_count": null,
   "id": "cabf628d-1322-4ced-bb86-9b57991cbc3e",
   "metadata": {},
   "outputs": [],
   "source": [
    "#ELIMINAMOS LOS TRANSPASOS QUE SON SIN EQUIPO(NO SON TRASPASOS)\n",
    "df_clean=df_clean[df_clean[\"to_club_id\"]!=515]"
   ]
  },
  {
   "cell_type": "code",
   "execution_count": null,
   "id": "9e54da8e-efa5-47da-945e-c9f707a40b5c",
   "metadata": {},
   "outputs": [],
   "source": [
    "#ELIMINAMOS FILAS QUE NO TIENEN LA CANTIDAD DE TRASPASO\n",
    "df_clean=df_clean[df_clean[\"transfer_fee\"].notna()]"
   ]
  },
  {
   "cell_type": "markdown",
   "id": "434c12cf-25fb-45aa-aaa6-103217ff62d1",
   "metadata": {},
   "source": [
    "### Eliminación Características"
   ]
  },
  {
   "cell_type": "code",
   "execution_count": null,
   "id": "d16db8da-c067-42da-a2fd-512ad16fee2c",
   "metadata": {},
   "outputs": [],
   "source": [
    "#ELIMINAMOS ATRIBUTOS DUPLICADOS Y TRANSFER_DATE, AUNQUE PODRÍA SER INTERESANTE\n",
    "del df_clean[\"from_club_name\"]\n",
    "del df_clean[\"to_club_name\"]\n",
    "del df_clean[\"player_name\"]\n",
    "del df_clean[\"transfer_date\"]"
   ]
  },
  {
   "cell_type": "markdown",
   "id": "20048145-2130-40d7-9c70-9cc31bdad1b8",
   "metadata": {},
   "source": [
    "### Conversión de características a numérico"
   ]
  },
  {
   "cell_type": "code",
   "execution_count": null,
   "id": "051684b1-eb01-4776-9503-3bd7b409224a",
   "metadata": {},
   "outputs": [],
   "source": [
    "#CONVERTIMOS CATEGÓRICO A NUMÉRICO\n",
    "df_clean=pd.get_dummies(df_clean,dtype='int')"
   ]
  },
  {
   "cell_type": "code",
   "execution_count": null,
   "id": "6762a315-712c-4794-919e-d6b70728f0e4",
   "metadata": {},
   "outputs": [],
   "source": [
    "df_clean"
   ]
  },
  {
   "cell_type": "code",
   "execution_count": null,
   "id": "eeb2a860-1a23-409d-8fae-d6d892483233",
   "metadata": {},
   "outputs": [],
   "source": [
    "#VEMOS YA QUE TODAS LAS CATEGORIAS SON  NUMERICAS\n",
    "df_clean.info()"
   ]
  },
  {
   "cell_type": "markdown",
   "id": "d420e1f7-1fcd-47cb-8179-2c50d6e7383a",
   "metadata": {},
   "source": [
    "### Completamos valores nulos con "
   ]
  },
  {
   "cell_type": "code",
   "execution_count": null,
   "id": "d4dde75b-9cfd-493d-9916-98985a27612b",
   "metadata": {},
   "outputs": [],
   "source": [
    "#VEMOS ANALISIS DE CATEGORIAS\n",
    "#df_clean.describe()"
   ]
  },
  {
   "cell_type": "code",
   "execution_count": null,
   "id": "1b2d3cec-2f6a-4794-9397-46c99961fc33",
   "metadata": {},
   "outputs": [],
   "source": [
    "#mediana_market_value=df_clean[\"market_value_in_eur\"].median()"
   ]
  },
  {
   "cell_type": "code",
   "execution_count": null,
   "id": "ecd24c2a-3bf3-4fb2-9598-8ca2092dafbb",
   "metadata": {},
   "outputs": [],
   "source": [
    "#df_clean[\"market_value_in_eur\"]=df_clean[\"market_value_in_eur\"].fillna(mediana_market_value)"
   ]
  },
  {
   "cell_type": "code",
   "execution_count": null,
   "id": "4147010a-5dd0-4556-b1f3-23ee443b2389",
   "metadata": {},
   "outputs": [],
   "source": [
    "#df_clean"
   ]
  },
  {
   "cell_type": "code",
   "execution_count": null,
   "id": "b61f9223-2841-4c25-9682-9f0124f8d447",
   "metadata": {},
   "outputs": [],
   "source": [
    "#ELIMINAMOS FILAS QUE NO TIENEN LA CANTIDAD DE TRASPASO\n",
    "df_clean=df_clean[df_clean[\"market_value_in_eur\"].notna()]"
   ]
  },
  {
   "cell_type": "code",
   "execution_count": null,
   "id": "6713a9da-3c30-461e-be34-2e8d379be32b",
   "metadata": {},
   "outputs": [],
   "source": [
    "df_clean"
   ]
  },
  {
   "cell_type": "markdown",
   "id": "555e2a8d-6c47-414e-8c53-fb250d35deff",
   "metadata": {},
   "source": [
    "# 3. Correlación entre características"
   ]
  },
  {
   "cell_type": "code",
   "execution_count": null,
   "id": "3a8544ef-489f-43a7-865a-3e80a22df0ea",
   "metadata": {},
   "outputs": [],
   "source": [
    "# Mostrar la correlación entre los atributos del conjunto de datos\n",
    "corr_matrix = df_clean.corr()\n",
    "corr_matrix[\"transfer_fee\"].sort_values(ascending=False)"
   ]
  },
  {
   "cell_type": "markdown",
   "id": "24919318-a7f6-4e57-89d5-e7904a51457e",
   "metadata": {},
   "source": [
    "## Predicción con regresión lineal simple a partir del market value"
   ]
  },
  {
   "cell_type": "markdown",
   "id": "ece52590-f651-4b65-b277-699907847637",
   "metadata": {},
   "source": [
    "## Particionado del conjunto de datos"
   ]
  },
  {
   "cell_type": "code",
   "execution_count": null,
   "id": "9d0e5691-8360-4925-a1c0-54e44aa2f724",
   "metadata": {},
   "outputs": [],
   "source": [
    "from sklearn.model_selection import train_test_split\n",
    "# Construcción de una función que realice el particionado completo\n",
    "def train_val_test_split(df, rstate=42, shuffle=True, stratify=None):\n",
    "    strat = df[stratify] if stratify else None\n",
    "    train_set, test_set = train_test_split(\n",
    "        df, test_size=0.4, random_state=rstate, shuffle=shuffle, stratify=strat)\n",
    "    strat = test_set[stratify] if stratify else None\n",
    "    val_set, test_set = train_test_split(\n",
    "        test_set, test_size=0.5, random_state=rstate, shuffle=shuffle, stratify=strat)\n",
    "    return (train_set, val_set, test_set)"
   ]
  },
  {
   "cell_type": "code",
   "execution_count": null,
   "id": "dc5cde3b-3ba2-46b2-b776-361bff6d978f",
   "metadata": {},
   "outputs": [],
   "source": [
    "df_reg=df_clean[[\"transfer_fee\",\"market_value_in_eur\"]]/1000000\n",
    "train_set, val_set, test_set = train_val_test_split(df_reg)"
   ]
  },
  {
   "cell_type": "code",
   "execution_count": null,
   "id": "eb47503d-a77e-421a-a9ee-544da6e796bb",
   "metadata": {},
   "outputs": [],
   "source": [
    "X_train_set=train_set.drop(\"transfer_fee\",axis=1)\n",
    "y_train_set=train_set[\"transfer_fee\"]\n",
    "X_val_set=val_set.drop(\"transfer_fee\",axis=1)\n",
    "y_val_set=val_set[\"transfer_fee\"]\n",
    "X_test_set=test_set.drop(\"transfer_fee\",axis=1)\n",
    "y_test_set=test_set[\"transfer_fee\"]"
   ]
  },
  {
   "cell_type": "code",
   "execution_count": null,
   "id": "5eb08bc8-1ba2-414a-b273-98c6c28559f7",
   "metadata": {},
   "outputs": [],
   "source": [
    "y_train_set.describe()"
   ]
  },
  {
   "cell_type": "code",
   "execution_count": null,
   "id": "4dd15db9-4aa2-4e2d-ad52-df4f2693e50a",
   "metadata": {},
   "outputs": [],
   "source": [
    "# Representación gráfica del conjunto de datos\n",
    "plt.plot(df_reg['market_value_in_eur'], df_reg['transfer_fee'], \"b.\")\n",
    "plt.xlabel(\"Valor Market\")\n",
    "plt.ylabel(\"Coste Traspaso\")\n",
    "plt.show()"
   ]
  },
  {
   "cell_type": "code",
   "execution_count": null,
   "id": "f0fee83a-bca4-450d-af08-e510c282dffa",
   "metadata": {},
   "outputs": [],
   "source": [
    "from sklearn.linear_model import LinearRegression\n",
    "# Construcción del modelo y ajuste de la función hipótesis\n",
    "lin_reg = LinearRegression()\n",
    "lin_reg.fit(df_reg['market_value_in_eur'].values.reshape(-1, 1), df_reg['transfer_fee'].values)"
   ]
  },
  {
   "cell_type": "code",
   "execution_count": null,
   "id": "901cecf8-c1bb-4472-bca9-182fbf4e7367",
   "metadata": {},
   "outputs": [],
   "source": [
    "# Predicción para el valor mínimo y máximo del conjunto de datos de entrenamiento\n",
    "X_min_max = np.array([[df_reg[\"market_value_in_eur\"].min()], [df_reg[\"market_value_in_eur\"].max()]])\n",
    "print(X_min_max)\n",
    "y_train_pred = lin_reg.predict(X_min_max)\n",
    "print(y_train_pred)"
   ]
  },
  {
   "cell_type": "code",
   "execution_count": null,
   "id": "61a10394-292e-4649-a39d-5db21325b020",
   "metadata": {},
   "outputs": [],
   "source": [
    "# Representación gráfica de la función hipótesis generada\n",
    "plt.plot(X_min_max, y_train_pred, \"g-\")\n",
    "plt.plot(df_reg['market_value_in_eur'], df_reg['transfer_fee'], \"b.\")\n",
    "plt.xlabel(\"Valor Market\")\n",
    "plt.ylabel(\"Coste Traspaso\")\n",
    "plt.show()"
   ]
  },
  {
   "cell_type": "code",
   "execution_count": null,
   "id": "5c19ad23-a763-48ca-8aa5-6e6848adedd6",
   "metadata": {},
   "outputs": [],
   "source": []
  },
  {
   "cell_type": "code",
   "execution_count": null,
   "id": "8ebcf4dc-37fd-4356-9417-20ca15532aac",
   "metadata": {},
   "outputs": [],
   "source": [
    "x_new = np.array([[120]]) # Isak \n",
    "\n",
    "# Predicción del coste que tendría el traspaso\n",
    "coste = lin_reg.predict(x_new) \n",
    "\n",
    "print(\"El coste del traspaso de Isak sería:\", int(coste[0]), \"millones de euros\")"
   ]
  },
  {
   "cell_type": "code",
   "execution_count": null,
   "id": "0f0feb8b-7d39-4159-a009-87e3ed02bc4f",
   "metadata": {},
   "outputs": [],
   "source": [
    "import plotly.express as px\n",
    "\n",
    "# Filter out rows where either transfer_fee or market_value_in_eur is zero or null\n",
    "scatter_data = df[(df['transfer_fee'] > 25000000) & (df['market_value_in_eur'] > 25000000)]\n",
    "\n",
    "# Create an interactive scatter plot with a trendline (correlation line)\n",
    "fig = px.scatter(\n",
    "    scatter_data, \n",
    "    x='market_value_in_eur', \n",
    "    y='transfer_fee', \n",
    "    title='Interactive Scatterplot: Transfer Fee vs Market Value in EUR',\n",
    "    labels={'market_value_in_eur': 'Market Value (in EUR)', 'transfer_fee': 'Transfer Fee (in EUR)'},\n",
    "    hover_data=['player_name', 'transfer_season'],\n",
    "    trendline='ols'  # Add Ordinary Least Squares (OLS) trendline\n",
    ")\n",
    "\n",
    "# Show the plot\n",
    "fig.show()"
   ]
  },
  {
   "cell_type": "code",
   "execution_count": null,
   "id": "1f1d2c8f-07bd-49d9-8a44-0c9b4fda989f",
   "metadata": {},
   "outputs": [],
   "source": [
    " #Calculate the correlation between transfer_fee and market_value_in_eur\n",
    "correlation = scatter_data['transfer_fee'].corr(scatter_data['market_value_in_eur'])\n",
    "print(f'Correlation between Transfer Fee and Market Value: {correlation:.4f}')"
   ]
  },
  {
   "cell_type": "code",
   "execution_count": null,
   "id": "6b1b7863-e713-4f9a-b274-2e14fb1a5345",
   "metadata": {},
   "outputs": [],
   "source": [
    "from sklearn.metrics import mean_squared_error\n",
    "y_pred=np.array(df_reg[\"market_value_in_eur\"])\n",
    "y_train_pred = lin_reg.predict(y_pred.reshape(-1,1))\n",
    "print(y_train_pred)\n",
    "rmse=np.sqrt(mean_squared_error(df_reg[\"transfer_fee\"],y_train_pred))\n",
    "rmse"
   ]
  },
  {
   "cell_type": "markdown",
   "id": "d98013cb-c64d-43a6-8818-6be81794c1db",
   "metadata": {},
   "source": [
    "## Regresión Lineal Múltiple"
   ]
  },
  {
   "cell_type": "code",
   "execution_count": null,
   "id": "8fb4ff7c-7bcd-4acd-8fe5-b74c08e88957",
   "metadata": {},
   "outputs": [],
   "source": [
    "x_clean= df_clean.copy()\n",
    "del x_clean[\"transfer_fee\"]\n",
    "x_clean"
   ]
  },
  {
   "cell_type": "code",
   "execution_count": null,
   "id": "c39e70a6-cd1a-4a78-a74f-5ec145c9434c",
   "metadata": {},
   "outputs": [],
   "source": [
    "# Construcción del modelo y ajuste de la función hipótesis\n",
    "lin_reg = LinearRegression()\n",
    "\n",
    "lin_reg.fit(x_clean, df_clean['transfer_fee'])"
   ]
  },
  {
   "cell_type": "code",
   "execution_count": null,
   "id": "29bb5f4e-73f9-48ec-9459-5422052f2f6c",
   "metadata": {},
   "outputs": [],
   "source": [
    "#.values.reshape(-1, 1"
   ]
  },
  {
   "cell_type": "code",
   "execution_count": null,
   "id": "c2cfb1bc-dcca-4239-bbf6-b762c94d00f2",
   "metadata": {},
   "outputs": [],
   "source": [
    "y_train_pred = lin_reg.predict(x_clean)\n",
    "rmse=np.sqrt(mean_squared_error(df_reg[\"transfer_fee\"],y_train_pred))\n",
    "rmse"
   ]
  },
  {
   "cell_type": "markdown",
   "id": "ade0262e-33e4-4ad2-b8b1-5a03b0833b58",
   "metadata": {},
   "source": [
    "## Modelo Random Forest Regressor"
   ]
  },
  {
   "cell_type": "code",
   "execution_count": null,
   "id": "7d79fa9c-ea1f-4176-aa03-b6af6727c461",
   "metadata": {},
   "outputs": [],
   "source": [
    "from sklearn.ensemble import RandomForestRegressor\n",
    "model=RandomForestRegressor(n_estimators=100,max_depth=5)\n"
   ]
  },
  {
   "cell_type": "code",
   "execution_count": null,
   "id": "53c004f3-49a9-4a7b-8760-f99e892c2af3",
   "metadata": {},
   "outputs": [],
   "source": [
    "df_clean[\"transfer_fee\"]=df_clean[\"transfer_fee\"]/100\n",
    "df_clean[\"market_value_in_eur\"]=df_clean[\"market_value_in_eur\"]/100\n",
    "\n",
    "train_set, val_set, test_set = train_val_test_split(df_clean)\n"
   ]
  },
  {
   "cell_type": "code",
   "execution_count": null,
   "id": "aa15ddfb-84a7-4732-8dd9-3a01f7ce5417",
   "metadata": {},
   "outputs": [],
   "source": [
    "X_train_set=train_set.drop(\"transfer_fee\",axis=1)\n",
    "y_train_set=train_set[\"transfer_fee\"]\n",
    "X_val_set=val_set.drop(\"transfer_fee\",axis=1)\n",
    "y_val_set=val_set[\"transfer_fee\"]\n",
    "X_test_set=test_set.drop(\"transfer_fee\",axis=1)\n",
    "y_test_set=test_set[\"transfer_fee\"]"
   ]
  },
  {
   "cell_type": "code",
   "execution_count": null,
   "id": "5400c814-c9a8-4c2c-bd83-550a6326aedf",
   "metadata": {},
   "outputs": [],
   "source": [
    "model.fit(X_train_set,y_train_set)"
   ]
  },
  {
   "cell_type": "code",
   "execution_count": null,
   "id": "7447b970-4f89-446c-8a5e-36c2a669e155",
   "metadata": {},
   "outputs": [],
   "source": [
    "\n",
    "y_val_pred = lin_reg.predict(X_val_set)\n",
    "rmse=np.sqrt(mean_squared_error(y_val_set,y_val_pred))\n",
    "rmse"
   ]
  },
  {
   "cell_type": "code",
   "execution_count": null,
   "id": "b7477555-e758-4a95-b881-ca79695bea5a",
   "metadata": {},
   "outputs": [],
   "source": [
    "# Random Forest plot\n",
    "y_test=y_val_set\n",
    "y_pred_rf=y_val_pred\n",
    "std_y = np.std(y_test)\n",
    "plt.figure(figsize=(14, 6))\n",
    "plt.scatter(y_test, y_pred_rf, alpha=0.5, color=\"blue\",ec='k')\n",
    "plt.plot([y_test.min(), y_test.max()], [y_test.min(), y_test.max()], 'k--', lw=2,label=\"perfect model\")\n",
    "plt.plot([y_test.min(), y_test.max()], [y_test.min() + std_y, y_test.max() + std_y], 'r--', lw=1, label=\"+/-1 Std Dev\")\n",
    "plt.plot([y_test.min(), y_test.max()], [y_test.min() - std_y, y_test.max() - std_y], 'r--', lw=1, )\n",
    "plt.ylim(0,6)\n",
    "plt.title(\"Random Forest Predictions vs Actual\")\n",
    "plt.xlabel(\"Actual Values\")\n",
    "plt.ylabel(\"Predicted Values\")\n",
    "plt.legend()\n",
    "plt.show()"
   ]
  },
  {
   "cell_type": "code",
   "execution_count": null,
   "id": "74f6f807-620b-4367-adc2-089a060cb1d6",
   "metadata": {},
   "outputs": [],
   "source": [
    "\n",
    "# Representación gráfica de la función hipótesis generada\n",
    "y_val_set=y_val_set\n",
    "y_val_pred=y_val_pred\n",
    "plt.plot(y_val_pred,y_val_set, \"g-\")\n",
    "plt.xlabel(\"coste predecido\")\n",
    "plt.ylabel(\"Coste Traspaso\")\n",
    "plt.show()"
   ]
  },
  {
   "cell_type": "code",
   "execution_count": null,
   "id": "ccc8ba22-3fb0-4107-a53b-34d6c2d31d3c",
   "metadata": {},
   "outputs": [],
   "source": []
  },
  {
   "cell_type": "code",
   "execution_count": null,
   "id": "f39cb636-000b-4857-bd1f-7f1770c3b8d2",
   "metadata": {},
   "outputs": [],
   "source": []
  },
  {
   "cell_type": "code",
   "execution_count": null,
   "id": "18318078-682f-4587-811f-f43a7a4210a9",
   "metadata": {},
   "outputs": [],
   "source": []
  }
 ],
 "metadata": {
  "kernelspec": {
   "display_name": "Python 3 (ipykernel)",
   "language": "python",
   "name": "python3"
  },
  "language_info": {
   "codemirror_mode": {
    "name": "ipython",
    "version": 3
   },
   "file_extension": ".py",
   "mimetype": "text/x-python",
   "name": "python",
   "nbconvert_exporter": "python",
   "pygments_lexer": "ipython3",
   "version": "3.13.5"
  }
 },
 "nbformat": 4,
 "nbformat_minor": 5
}
